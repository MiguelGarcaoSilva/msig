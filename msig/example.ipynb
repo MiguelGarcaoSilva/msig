{
 "cells": [
  {
   "cell_type": "code",
   "execution_count": 1,
   "metadata": {},
   "outputs": [],
   "source": [
    "from MSig import Motif, NullModel\n",
    "import numpy as np"
   ]
  },
  {
   "cell_type": "code",
   "execution_count": 2,
   "metadata": {},
   "outputs": [
    {
     "data": {
      "text/plain": [
       "(4, 15)"
      ]
     },
     "execution_count": 2,
     "metadata": {},
     "output_type": "execute_result"
    }
   ],
   "source": [
    "ts1 = [1, 3, 3, 5, 5, 2, 3, 3, 5, 5, 3, 3, 5, 4, 4]\n",
    "ts2 = [4.3, 4.5, 2.6, 3.0, 3.0, 1.7, 4.9, 2.9, 3.3, 1.9, 4.9, 2.5, 3.1, 1.8, 0.3]\n",
    "ts3 = [\"A\", \"D\", \"B\", \"D\", \"A\", \"A\", \"A\" ,\"C\", \"C\", \"B\", \"D\", \"D\", \"C\", \"A\", \"A\"]\n",
    "ts4 = [\"T\", \"L\", \"T\", \"Z\", \"Z\", \"T\", \"L\", \"T\", \"Z\", \"T\", \"L\", \"T\", \"Z\", \"L\", \"L\"]\n",
    "data = np.stack([np.asarray(ts1, dtype=int), np.asarray(ts2, dtype=float), np.asarray(ts3, dtype=str), np.asarray(ts4, dtype=str)])\n",
    "m, n = data.shape # data with shape (m=4 x n=15)\n",
    "m, n"
   ]
  },
  {
   "cell_type": "code",
   "execution_count": 3,
   "metadata": {},
   "outputs": [
    {
     "data": {
      "text/plain": [
       "array([['3', '3', '5'],\n",
       "       ['4.5', '2.6', '3.0'],\n",
       "       ['L', 'T', 'Z']], dtype='<U32')"
      ]
     },
     "execution_count": 3,
     "metadata": {},
     "output_type": "execute_result"
    }
   ],
   "source": [
    "#Create the null model \n",
    "model = NullModel(data, dtypes=[int, float, str, str],  model=\"empirical\")\n",
    "\n",
    "# Identify the Motif of length $p=3$\n",
    "# with three matches (at indices 1, 6, and 10) that spans the first, second, and fourth variables\n",
    "# satisfying a maximum deviation threshold of $\\delta = 0.5$.\n",
    "vars = np.array([0,1,3])\n",
    "motif_subsequence = data[vars, 1:4]\n",
    "motif_subsequence"
   ]
  },
  {
   "cell_type": "code",
   "execution_count": 4,
   "metadata": {},
   "outputs": [
    {
     "data": {
      "text/plain": [
       "0.0020170565623167215"
      ]
     },
     "execution_count": 4,
     "metadata": {},
     "output_type": "execute_result"
    }
   ],
   "source": [
    "motif = Motif(motif_subsequence, vars, np.array([0,0.5,0,0]), n_matches=3)\n",
    "probability = motif.set_pattern_probability(model, vars_indep=True)\n",
    "probability"
   ]
  },
  {
   "cell_type": "code",
   "execution_count": 5,
   "metadata": {},
   "outputs": [
    {
     "data": {
      "text/plain": [
       "2.311789615930094e-06"
      ]
     },
     "execution_count": 5,
     "metadata": {},
     "output_type": "execute_result"
    }
   ],
   "source": [
    "p = len(motif_subsequence[0]) # length of the motif\n",
    "max_possible_matches = n-p+1 # maximum number of possible matches\n",
    "pvalue = motif.set_significance(max_possible_matches, data_n_variables=m, idd_correction=False) \n",
    "pvalue"
   ]
  }
 ],
 "metadata": {
  "kernelspec": {
   "display_name": "Python 3",
   "language": "python",
   "name": "python3"
  },
  "language_info": {
   "codemirror_mode": {
    "name": "ipython",
    "version": 3
   },
   "file_extension": ".py",
   "mimetype": "text/x-python",
   "name": "python",
   "nbconvert_exporter": "python",
   "pygments_lexer": "ipython3",
   "version": "3.9.19"
  }
 },
 "nbformat": 4,
 "nbformat_minor": 2
}
