{
 "cells": [
  {
   "cell_type": "code",
   "execution_count": 5,
   "metadata": {},
   "outputs": [],
   "source": [
    "from MSig import Motif, NullModel\n",
    "import numpy as np\n",
    "import logging\n",
    "logging.basicConfig(level=logging.DEBUG)"
   ]
  },
  {
   "cell_type": "code",
   "execution_count": 6,
   "metadata": {},
   "outputs": [
    {
     "data": {
      "text/plain": [
       "array([['1', '3', '3', '5', '5', '2', '3', '3', '5', '5', '3', '3', '5',\n",
       "        '4', '4'],\n",
       "       ['4.3', '4.5', '2.6', '3.0', '3.0', '1.7', '4.9', '2.9', '3.3',\n",
       "        '1.9', '4.9', '2.5', '3.1', '1.8', '0.3'],\n",
       "       ['A', 'D', 'B', 'D', 'A', 'A', 'A', 'C', 'C', 'B', 'D', 'D', 'C',\n",
       "        'A', 'A'],\n",
       "       ['T', 'L', 'T', 'Z', 'Z', 'T', 'L', 'T', 'Z', 'T', 'L', 'T', 'Z',\n",
       "        'L', 'L']], dtype='<U32')"
      ]
     },
     "execution_count": 6,
     "metadata": {},
     "output_type": "execute_result"
    }
   ],
   "source": [
    "ts1 = [1,3,3,5,5,2,3,3,5,5,3,3,5,4,4]\n",
    "ts2 = [4.3, 4.5, 2.6, 3.0, 3.0, 1.7, 4.9, 2.9, 3.3, 1.9, 4.9, 2.5, 3.1, 1.8, 0.3]\n",
    "ts3 = [\"A\",\"D\", \"B\", \"D\", \"A\", \"A\", \"A\" ,\"C\", \"C\", \"B\", \"D\", \"D\", \"C\", \"A\", \"A\" ]\n",
    "ts4 = [\"T\", \"L\", \"T\", \"Z\", \"Z\", \"T\", \"L\", \"T\", \"Z\", \"T\", \"L\", \"T\", \"Z\", \"L\", \"L\"]\n",
    "multivar_time_series = np.stack([np.asarray(ts1, dtype=int), np.asarray(ts2, dtype=float), np.asarray(ts3, dtype=str), np.asarray(ts4, dtype=str)])\n",
    "multivar_time_series"
   ]
  },
  {
   "cell_type": "code",
   "execution_count": 7,
   "metadata": {},
   "outputs": [
    {
     "data": {
      "text/plain": [
       "array([['3', '3', '5'],\n",
       "       ['4.5', '2.6', '3.0'],\n",
       "       ['L', 'T', 'Z']], dtype='<U32')"
      ]
     },
     "execution_count": 7,
     "metadata": {},
     "output_type": "execute_result"
    }
   ],
   "source": [
    "#ts to ndarray\n",
    "model = NullModel(multivar_time_series, dtypes=[int, float, str, str],  model=\"empirical\")\n",
    "# from index 1 to 4\n",
    "vars = np.array([0,1,3])\n",
    "motif_subsequence = multivar_time_series[vars, 1:4]\n",
    "motif_subsequence\n"
   ]
  },
  {
   "cell_type": "code",
   "execution_count": 8,
   "metadata": {},
   "outputs": [
    {
     "name": "stderr",
     "output_type": "stream",
     "text": [
      "DEBUG:root:6\n",
      "DEBUG:root:3\n",
      "DEBUG:root:3\n",
      "DEBUG:MSig:[3 3 5]\n",
      "DEBUG:MSig:p_Q_j = 1.147959E-01\n",
      "DEBUG:root:4\n",
      "DEBUG:root:3\n",
      "DEBUG:root:4\n",
      "DEBUG:MSig:[4.5 2.6 3. ]\n",
      "DEBUG:MSig:p_Q_j = 1.530612E-01\n",
      "DEBUG:root:5\n",
      "DEBUG:root:3\n",
      "DEBUG:root:3\n",
      "DEBUG:MSig:['L' 'T' 'Z']\n",
      "DEBUG:MSig:p_Q_j = 1.147959E-01\n"
     ]
    },
    {
     "data": {
      "text/plain": [
       "0.0020170565623167215"
      ]
     },
     "execution_count": 8,
     "metadata": {},
     "output_type": "execute_result"
    }
   ],
   "source": [
    "motif = Motif(motif_subsequence, vars, np.array([0,0.5,0,0]), 3)\n",
    "p = motif.set_pattern_probability(model, vars_indep=True)\n",
    "p"
   ]
  },
  {
   "cell_type": "code",
   "execution_count": 11,
   "metadata": {},
   "outputs": [
    {
     "name": "stderr",
     "output_type": "stream",
     "text": [
      "INFO:root:p_value = 2.312E-06 (p_pattern = 2.017E-03)\n"
     ]
    }
   ],
   "source": [
    "max_possible_matches = 13\n",
    "pvalue = motif.set_significance(max_possible_matches, 1, idd_correction=False)"
   ]
  }
 ],
 "metadata": {
  "kernelspec": {
   "display_name": "Python 3",
   "language": "python",
   "name": "python3"
  },
  "language_info": {
   "codemirror_mode": {
    "name": "ipython",
    "version": 3
   },
   "file_extension": ".py",
   "mimetype": "text/x-python",
   "name": "python",
   "nbconvert_exporter": "python",
   "pygments_lexer": "ipython3",
   "version": "3.8.0"
  }
 },
 "nbformat": 4,
 "nbformat_minor": 2
}
