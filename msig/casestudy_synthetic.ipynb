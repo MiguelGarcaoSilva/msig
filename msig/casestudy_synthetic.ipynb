{
 "cells": [
  {
   "cell_type": "code",
   "execution_count": 1,
   "metadata": {},
   "outputs": [],
   "source": [
    "import math\n",
    "from matplotlib import cm\n",
    "import numpy as np\n",
    "import matplotlib.pyplot as plt\n",
    "import seaborn as sns\n",
    "from matplotlib.colors import  TwoSlopeNorm\n",
    "import sys, os\n",
    "import logging\n",
    "#logging.basicConfig(level=logging.INFO)"
   ]
  },
  {
   "cell_type": "code",
   "execution_count": 2,
   "metadata": {},
   "outputs": [],
   "source": [
    "current = os.path.dirname(os.path.realpath(sys.argv[0]))\n",
    "parent = os.path.dirname(current)\n",
    "sys.path.append(parent)\n",
    "\n",
    "from MSig import Motif, NullModel"
   ]
  },
  {
   "cell_type": "code",
   "execution_count": 3,
   "metadata": {},
   "outputs": [],
   "source": [
    "#multivar_time_series = np.random.uniform(0, 1, (100, 1000))\n",
    "#np.savetxt(\"../data/synthetic/multivar_time_series.csv\", multivar_time_series, delimiter=\",\")"
   ]
  },
  {
   "cell_type": "code",
   "execution_count": 4,
   "metadata": {},
   "outputs": [],
   "source": [
    "#read the data\n",
    "multivar_time_series = np.loadtxt(\"../data/synthetic/multivar_time_series.csv\", delimiter=\",\")\n",
    "delta_thresholds = [0.1 ,0.3]\n",
    "number_vars = np.arange(1, 11, 1)\n",
    "motif_lenghts = np.arange(2, 11,1)\n",
    "number_matches = [1,10,20,30,40,50,60,70,80,90,100]\n",
    "dtypes = [float] * len(multivar_time_series)\n",
    "model = NullModel(multivar_time_series, dtypes=dtypes ,model=\"kde\")"
   ]
  },
  {
   "cell_type": "code",
   "execution_count": 5,
   "metadata": {},
   "outputs": [
    {
     "name": "stderr",
     "output_type": "stream",
     "text": [
      "/tmp/ipykernel_8520/3487958728.py:40: UserWarning: This figure includes Axes that are not compatible with tight_layout, so results might be incorrect.\n",
      "  plt.tight_layout(rect=[0, 0, 0.9, 0.95])\n"
     ]
    }
   ],
   "source": [
    "#heatmap 2d number of variables vs number of matches\n",
    "\n",
    "fig, axes = plt.subplots(len(motif_lenghts), len(delta_thresholds), figsize=(12, 15), sharex=True, sharey=True)\n",
    "\n",
    "for i, m in enumerate(motif_lenghts):\n",
    "    for j, delta in enumerate(delta_thresholds):\n",
    "        max_possible_matches = len(multivar_time_series[0]) - m + 1\n",
    "        data = np.zeros((len(number_vars), len(number_matches)))\n",
    "        for vars_index, k in enumerate(number_vars):\n",
    "            vars = np.arange(k)\n",
    "            motif_subsequence = multivar_time_series[vars, 0:0 + m]\n",
    "            pvalues =[]\n",
    "            for n_matches in number_matches:\n",
    "                motif = Motif(motif_subsequence, vars, np.repeat(delta, k), n_matches)\n",
    "                p = motif.set_pattern_probability(model, vars_indep=True)\n",
    "                pvalue = motif.set_significance(max_possible_matches, number_vars, idd_correction=False)\n",
    "                pvalues.append(pvalue)\n",
    "            data[vars_index, :] = pvalues\n",
    "        \n",
    "        sns.heatmap(data, cmap=\"coolwarm\", ax=axes[i, j], cbar=False, norm=TwoSlopeNorm(vcenter=0.01, vmin=0, vmax=1))\n",
    "        bbox_props = dict(boxstyle=\"round,pad=0.3\", fc=\"white\", ec=\"black\", lw=0.5)\n",
    "        axes[i, j].text(0.925, 1.2, f'$s$: {m}', ha=\"center\", va=\"center\", size=15, bbox=bbox_props, transform=axes[i, j].transAxes)\n",
    "        if i == 0:\n",
    "            axes[i, j].set_title(f'$\\delta$: {delta}', size=30)\n",
    "\n",
    "        #set label only in the first and last ytick\n",
    "        axes[i, j].set_xticklabels(number_matches, size=15)\n",
    "        axes[i, j].set_yticks([0+0.5, len(number_vars) - 1 + 0.5], labels=[number_vars[0], number_vars[-1]], size=15)  \n",
    "\n",
    "\n",
    "#add cbar in the middle right of the figure with the norm\n",
    "cbar_ax = fig.add_axes([0.92, 0.15, 0.02, 0.7])\n",
    "cbar = fig.colorbar(cm.ScalarMappable(norm=TwoSlopeNorm(vmin=0, vcenter=0.01, vmax=1),cmap='coolwarm'), cax=cbar_ax, ticks=[0, 0.01, 0.2, 0.4, 0.6, 0.8, 1] ,label='$p$-value' )\n",
    "cbar.ax.tick_params(labelsize=15)\n",
    "cbar.ax.yaxis.label.set_size(30)\n",
    "\n",
    "fig.supxlabel('Number of Matches ($k$)', size=30)\n",
    "fig.supylabel('Number of Variables ($q$)', size=30)\n",
    "\n",
    "plt.tight_layout(rect=[0, 0, 0.9, 0.95])\n",
    "plt.savefig('../results/synthetic/p_value_heatmap_grid_numberofvariables_numbermatches.pdf', bbox_inches='tight')\n",
    "plt.close()"
   ]
  },
  {
   "cell_type": "code",
   "execution_count": 8,
   "metadata": {},
   "outputs": [
    {
     "name": "stderr",
     "output_type": "stream",
     "text": [
      "/tmp/ipykernel_8520/1260351741.py:43: UserWarning: This figure includes Axes that are not compatible with tight_layout, so results might be incorrect.\n",
      "  plt.tight_layout(rect=[0, 0, 0.9, 0.95])\n"
     ]
    }
   ],
   "source": [
    "#tamanho do padrao vs numero matches\n",
    "fig, axes = plt.subplots(len(number_vars), len(delta_thresholds), figsize=(12, 15), sharex=True, sharey=True)\n",
    "\n",
    "for i, q in enumerate(number_vars):\n",
    "    for j, coherence in enumerate(delta_thresholds):\n",
    "        max_possible_matches = len(multivar_time_series[0]) - q + 1\n",
    "        data = np.zeros((len(motif_lenghts), len(number_matches)))\n",
    "        for m_index, m in enumerate(motif_lenghts):\n",
    "            vars = np.arange(q)\n",
    "            motif_subsequence = multivar_time_series[vars, 0:0 + m]\n",
    "            pvalues =[]\n",
    "            for n_matches in number_matches:\n",
    "                motif = Motif(motif_subsequence, vars, np.repeat(coherence, q), n_matches)\n",
    "                p = motif.set_pattern_probability(model, vars_indep=True)\n",
    "                pvalue = motif.set_significance(max_possible_matches, number_vars, idd_correction=False)\n",
    "                pvalues.append(pvalue)\n",
    "            data[m_index, :] = pvalues\n",
    "\n",
    "        sns.heatmap(data, cmap=\"coolwarm\", ax=axes[i, j], cbar=False, norm=TwoSlopeNorm(vcenter=0.01, vmin=0, vmax=1))\n",
    "\n",
    "        #add a legend saying the value of k and the coherence top right\n",
    "        bbox_props = dict(boxstyle=\"round,pad=0.3\", fc=\"white\", ec=\"black\", lw=0.5)\n",
    "        axes[i, j].text(0.925, 1.2, f'q: {q}', ha=\"center\", va=\"center\", size=15, bbox=bbox_props, transform=axes[i, j].transAxes)\n",
    "        if i == 0:\n",
    "            axes[i, j].set_title(f'$\\delta$: {coherence}', size=30)\n",
    "\n",
    "        #set label only in the first and last ytick\n",
    "        axes[i, j].set_xticklabels(number_matches, size=15)\n",
    "        axes[i, j].set_yticks([0 +0.5, len(motif_lenghts) - 1 + 0.5], labels=[motif_lenghts[0], motif_lenghts[-1]], size=15)\n",
    "\n",
    "\n",
    "\n",
    "#add cbar in the middle right of the figure\n",
    "cbar_ax = fig.add_axes([0.92, 0.15, 0.02, 0.7])\n",
    "cbar = fig.colorbar(cm.ScalarMappable(norm=TwoSlopeNorm(vmin=0, vcenter=0.01, vmax=1),cmap='coolwarm'), cax=cbar_ax, ticks=[0, 0.01, 0.2, 0.4, 0.6, 0.8, 1], label='$p$-value')\n",
    "cbar.ax.tick_params(labelsize=15)\n",
    "cbar.ax.yaxis.label.set_size(30)\n",
    "\n",
    "#add x y labels in the center of the axis\n",
    "fig.supxlabel('Number of Matches ($k$)', size=30)\n",
    "fig.supylabel('Motif Length ($s$)', size=30)\n",
    "\n",
    "plt.tight_layout(rect=[0, 0, 0.9, 0.95])\n",
    "\n",
    "\n",
    "plt.savefig('../results/synthetic/p_value_heatmap_grid_motiflength_vs_numbermatches.pdf', bbox_inches='tight')\n",
    "plt.close()"
   ]
  }
 ],
 "metadata": {
  "kernelspec": {
   "display_name": "Python 3",
   "language": "python",
   "name": "python3"
  },
  "language_info": {
   "codemirror_mode": {
    "name": "ipython",
    "version": 3
   },
   "file_extension": ".py",
   "mimetype": "text/x-python",
   "name": "python",
   "nbconvert_exporter": "python",
   "pygments_lexer": "ipython3",
   "version": "3.9.19"
  }
 },
 "nbformat": 4,
 "nbformat_minor": 2
}
